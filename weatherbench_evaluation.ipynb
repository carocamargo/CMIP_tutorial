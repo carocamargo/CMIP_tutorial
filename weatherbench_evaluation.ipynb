{
  "cells": [
    {
      "cell_type": "markdown",
      "id": "db1a246a-0cfa-4baf-a7a3-ca5bc521c734",
      "metadata": {
        "id": "db1a246a-0cfa-4baf-a7a3-ca5bc521c734"
      },
      "source": [
        "<!-- (evaluation)= -->\n",
        "# WeatherBench 2 Evaluation Quickstart\n",
        "\n",
        "<a target=\"_blank\" href=\"https://colab.research.google.com/github/google-research/weatherbench2/blob/main/docs/source/evaluation.ipynb\">\n",
        "  <img src=\"https://colab.research.google.com/assets/colab-badge.svg\" alt=\"Open In Colab\"/>\n",
        "</a>\n",
        "\n",
        "In this notebook, we will cover the basic functionality of the WeatherBench evaluation framework.\n",
        "\n",
        "The WeatherBench evaluation framework takes two datasets for forecast and ground truth (called obs, even though reanalysis datasets like ERA5 are not observations), computes and saves the specified metrics.\n",
        "\n",
        "Here, we will evalute ECMWF's HRES forecast against ERA5."
      ]
    },
    {
      "cell_type": "code",
      "execution_count": 1,
      "id": "f361a7ba-fa4f-49a8-a3cc-5113f7eb3430",
      "metadata": {
        "id": "f361a7ba-fa4f-49a8-a3cc-5113f7eb3430",
        "outputId": "b4148d4e-fbde-48a6-a7d8-6ce223e85f3b",
        "colab": {
          "base_uri": "https://localhost:8080/",
          "height": 1000
        }
      },
      "outputs": [
        {
          "output_type": "stream",
          "name": "stdout",
          "text": [
            "Collecting git+https://github.com/google-research/weatherbench2.git\n",
            "  Cloning https://github.com/google-research/weatherbench2.git to /tmp/pip-req-build-yb8x5u4c\n",
            "  Running command git clone --filter=blob:none --quiet https://github.com/google-research/weatherbench2.git /tmp/pip-req-build-yb8x5u4c\n",
            "  Resolved https://github.com/google-research/weatherbench2.git to commit 80749789e8644e208c53a15ebd3884eeea5bcd00\n",
            "  Installing build dependencies ... \u001b[?25l\u001b[?25hdone\n",
            "  Getting requirements to build wheel ... \u001b[?25l\u001b[?25hdone\n",
            "  Preparing metadata (pyproject.toml) ... \u001b[?25l\u001b[?25hdone\n",
            "Collecting apache_beam>=2.31.0 (from weatherbench2==0.2.1)\n",
            "  Downloading apache_beam-2.66.0-cp311-cp311-manylinux_2_17_x86_64.manylinux2014_x86_64.whl.metadata (19 kB)\n",
            "Collecting cftime>=1.6.2 (from weatherbench2==0.2.1)\n",
            "  Downloading cftime-1.6.4.post1-cp311-cp311-manylinux_2_17_x86_64.manylinux2014_x86_64.whl.metadata (8.7 kB)\n",
            "Requirement already satisfied: jax[cpu] in /usr/local/lib/python3.11/dist-packages (from weatherbench2==0.2.1) (0.5.2)\n",
            "Collecting numpy>=2.1.3 (from weatherbench2==0.2.1)\n",
            "  Downloading numpy-2.3.1-cp311-cp311-manylinux_2_28_x86_64.whl.metadata (62 kB)\n",
            "\u001b[2K     \u001b[90m━━━━━━━━━━━━━━━━━━━━━━━━━━━━━━━━━━━━━━━━\u001b[0m \u001b[32m62.1/62.1 kB\u001b[0m \u001b[31m3.2 MB/s\u001b[0m eta \u001b[36m0:00:00\u001b[0m\n",
            "\u001b[?25hCollecting pandas>=2.2.3 (from weatherbench2==0.2.1)\n",
            "  Downloading pandas-2.3.0-cp311-cp311-manylinux_2_17_x86_64.manylinux2014_x86_64.whl.metadata (91 kB)\n",
            "\u001b[2K     \u001b[90m━━━━━━━━━━━━━━━━━━━━━━━━━━━━━━━━━━━━━━━━\u001b[0m \u001b[32m91.2/91.2 kB\u001b[0m \u001b[31m6.3 MB/s\u001b[0m eta \u001b[36m0:00:00\u001b[0m\n",
            "\u001b[?25hRequirement already satisfied: scipy in /usr/local/lib/python3.11/dist-packages (from weatherbench2==0.2.1) (1.15.3)\n",
            "Requirement already satisfied: scikit-learn in /usr/local/lib/python3.11/dist-packages (from weatherbench2==0.2.1) (1.6.1)\n",
            "Requirement already satisfied: xarray>=2024.11.0 in /usr/local/lib/python3.11/dist-packages (from weatherbench2==0.2.1) (2025.3.1)\n",
            "Collecting xarray-beam (from weatherbench2==0.2.1)\n",
            "  Downloading xarray_beam-0.8.0-py3-none-any.whl.metadata (1000 bytes)\n",
            "Collecting zarr (from weatherbench2==0.2.1)\n",
            "  Downloading zarr-3.0.10-py3-none-any.whl.metadata (10 kB)\n",
            "Collecting crcmod<2.0,>=1.7 (from apache_beam>=2.31.0->weatherbench2==0.2.1)\n",
            "  Downloading crcmod-1.7.tar.gz (89 kB)\n",
            "\u001b[2K     \u001b[90m━━━━━━━━━━━━━━━━━━━━━━━━━━━━━━━━━━━━━━━━\u001b[0m \u001b[32m89.7/89.7 kB\u001b[0m \u001b[31m6.2 MB/s\u001b[0m eta \u001b[36m0:00:00\u001b[0m\n",
            "\u001b[?25h  Preparing metadata (setup.py) ... \u001b[?25l\u001b[?25hdone\n",
            "Requirement already satisfied: orjson<4,>=3.9.7 in /usr/local/lib/python3.11/dist-packages (from apache_beam>=2.31.0->weatherbench2==0.2.1) (3.10.18)\n",
            "Collecting dill<0.3.2,>=0.3.1.1 (from apache_beam>=2.31.0->weatherbench2==0.2.1)\n",
            "  Downloading dill-0.3.1.1.tar.gz (151 kB)\n",
            "\u001b[2K     \u001b[90m━━━━━━━━━━━━━━━━━━━━━━━━━━━━━━━━━━━━━━\u001b[0m \u001b[32m152.0/152.0 kB\u001b[0m \u001b[31m10.5 MB/s\u001b[0m eta \u001b[36m0:00:00\u001b[0m\n",
            "\u001b[?25h  Preparing metadata (setup.py) ... \u001b[?25l\u001b[?25hdone\n",
            "Collecting fastavro<2,>=0.23.6 (from apache_beam>=2.31.0->weatherbench2==0.2.1)\n",
            "  Downloading fastavro-1.11.1-cp311-cp311-manylinux_2_17_x86_64.manylinux2014_x86_64.whl.metadata (5.7 kB)\n",
            "Collecting fasteners<1.0,>=0.3 (from apache_beam>=2.31.0->weatherbench2==0.2.1)\n",
            "  Downloading fasteners-0.19-py3-none-any.whl.metadata (4.9 kB)\n",
            "Collecting grpcio!=1.48.0,!=1.59.*,!=1.60.*,!=1.61.*,!=1.62.0,!=1.62.1,<1.66.0,<2,>=1.33.1 (from apache_beam>=2.31.0->weatherbench2==0.2.1)\n",
            "  Downloading grpcio-1.65.5-cp311-cp311-manylinux_2_17_x86_64.manylinux2014_x86_64.whl.metadata (3.3 kB)\n",
            "Collecting hdfs<3.0.0,>=2.1.0 (from apache_beam>=2.31.0->weatherbench2==0.2.1)\n",
            "  Downloading hdfs-2.7.3.tar.gz (43 kB)\n",
            "\u001b[2K     \u001b[90m━━━━━━━━━━━━━━━━━━━━━━━━━━━━━━━━━━━━━━━━\u001b[0m \u001b[32m43.5/43.5 kB\u001b[0m \u001b[31m3.0 MB/s\u001b[0m eta \u001b[36m0:00:00\u001b[0m\n",
            "\u001b[?25h  Preparing metadata (setup.py) ... \u001b[?25l\u001b[?25hdone\n",
            "Requirement already satisfied: httplib2<0.23.0,>=0.8 in /usr/local/lib/python3.11/dist-packages (from apache_beam>=2.31.0->weatherbench2==0.2.1) (0.22.0)\n",
            "Requirement already satisfied: jsonschema<5.0.0,>=4.0.0 in /usr/local/lib/python3.11/dist-packages (from apache_beam>=2.31.0->weatherbench2==0.2.1) (4.24.0)\n",
            "Collecting jsonpickle<4.0.0,>=3.0.0 (from apache_beam>=2.31.0->weatherbench2==0.2.1)\n",
            "  Downloading jsonpickle-3.4.2-py3-none-any.whl.metadata (8.1 kB)\n",
            "Collecting numpy>=2.1.3 (from weatherbench2==0.2.1)\n",
            "  Downloading numpy-2.2.6-cp311-cp311-manylinux_2_17_x86_64.manylinux2014_x86_64.whl.metadata (62 kB)\n",
            "\u001b[2K     \u001b[90m━━━━━━━━━━━━━━━━━━━━━━━━━━━━━━━━━━━━━━━━\u001b[0m \u001b[32m62.0/62.0 kB\u001b[0m \u001b[31m4.3 MB/s\u001b[0m eta \u001b[36m0:00:00\u001b[0m\n",
            "\u001b[?25hCollecting objsize<0.8.0,>=0.6.1 (from apache_beam>=2.31.0->weatherbench2==0.2.1)\n",
            "  Downloading objsize-0.7.1-py3-none-any.whl.metadata (12 kB)\n",
            "Requirement already satisfied: packaging>=22.0 in /usr/local/lib/python3.11/dist-packages (from apache_beam>=2.31.0->weatherbench2==0.2.1) (24.2)\n",
            "Collecting pymongo<5.0.0,>=3.8.0 (from apache_beam>=2.31.0->weatherbench2==0.2.1)\n",
            "  Downloading pymongo-4.13.2-cp311-cp311-manylinux_2_17_x86_64.manylinux2014_x86_64.whl.metadata (22 kB)\n",
            "Requirement already satisfied: proto-plus<2,>=1.7.1 in /usr/local/lib/python3.11/dist-packages (from apache_beam>=2.31.0->weatherbench2==0.2.1) (1.26.1)\n",
            "Requirement already satisfied: protobuf!=4.0.*,!=4.21.*,!=4.22.0,!=4.23.*,!=4.24.*,<6.0.0.dev0,>=3.20.3 in /usr/local/lib/python3.11/dist-packages (from apache_beam>=2.31.0->weatherbench2==0.2.1) (5.29.5)\n",
            "Collecting pydot<2,>=1.2.0 (from apache_beam>=2.31.0->weatherbench2==0.2.1)\n",
            "  Downloading pydot-1.4.2-py2.py3-none-any.whl.metadata (8.0 kB)\n",
            "Requirement already satisfied: python-dateutil<3,>=2.8.0 in /usr/local/lib/python3.11/dist-packages (from apache_beam>=2.31.0->weatherbench2==0.2.1) (2.9.0.post0)\n",
            "Requirement already satisfied: pytz>=2018.3 in /usr/local/lib/python3.11/dist-packages (from apache_beam>=2.31.0->weatherbench2==0.2.1) (2025.2)\n",
            "Collecting redis<6,>=5.0.0 (from apache_beam>=2.31.0->weatherbench2==0.2.1)\n",
            "  Downloading redis-5.3.0-py3-none-any.whl.metadata (9.2 kB)\n",
            "Requirement already satisfied: regex>=2020.6.8 in /usr/local/lib/python3.11/dist-packages (from apache_beam>=2.31.0->weatherbench2==0.2.1) (2024.11.6)\n",
            "Requirement already satisfied: requests<3.0.0,>=2.24.0 in /usr/local/lib/python3.11/dist-packages (from apache_beam>=2.31.0->weatherbench2==0.2.1) (2.32.3)\n",
            "Requirement already satisfied: sortedcontainers>=2.4.0 in /usr/local/lib/python3.11/dist-packages (from apache_beam>=2.31.0->weatherbench2==0.2.1) (2.4.0)\n",
            "Requirement already satisfied: typing-extensions>=3.7.0 in /usr/local/lib/python3.11/dist-packages (from apache_beam>=2.31.0->weatherbench2==0.2.1) (4.14.0)\n",
            "Requirement already satisfied: zstandard<1,>=0.18.0 in /usr/local/lib/python3.11/dist-packages (from apache_beam>=2.31.0->weatherbench2==0.2.1) (0.23.0)\n",
            "Requirement already satisfied: pyyaml<7.0.0,>=3.12 in /usr/local/lib/python3.11/dist-packages (from apache_beam>=2.31.0->weatherbench2==0.2.1) (6.0.2)\n",
            "Requirement already satisfied: pyarrow<19.0.0,>=3.0.0 in /usr/local/lib/python3.11/dist-packages (from apache_beam>=2.31.0->weatherbench2==0.2.1) (18.1.0)\n",
            "Collecting pyarrow-hotfix<1 (from apache_beam>=2.31.0->weatherbench2==0.2.1)\n",
            "  Downloading pyarrow_hotfix-0.7-py3-none-any.whl.metadata (3.6 kB)\n",
            "Requirement already satisfied: tzdata>=2022.7 in /usr/local/lib/python3.11/dist-packages (from pandas>=2.2.3->weatherbench2==0.2.1) (2025.2)\n",
            "Requirement already satisfied: jaxlib<=0.5.2,>=0.5.1 in /usr/local/lib/python3.11/dist-packages (from jax[cpu]->weatherbench2==0.2.1) (0.5.1)\n",
            "Requirement already satisfied: ml_dtypes>=0.4.0 in /usr/local/lib/python3.11/dist-packages (from jax[cpu]->weatherbench2==0.2.1) (0.4.1)\n",
            "Requirement already satisfied: opt_einsum in /usr/local/lib/python3.11/dist-packages (from jax[cpu]->weatherbench2==0.2.1) (3.4.0)\n",
            "Requirement already satisfied: joblib>=1.2.0 in /usr/local/lib/python3.11/dist-packages (from scikit-learn->weatherbench2==0.2.1) (1.5.1)\n",
            "Requirement already satisfied: threadpoolctl>=3.1.0 in /usr/local/lib/python3.11/dist-packages (from scikit-learn->weatherbench2==0.2.1) (3.6.0)\n",
            "Requirement already satisfied: dask in /usr/local/lib/python3.11/dist-packages (from xarray-beam->weatherbench2==0.2.1) (2024.12.1)\n",
            "Requirement already satisfied: immutabledict in /usr/local/lib/python3.11/dist-packages (from xarray-beam->weatherbench2==0.2.1) (4.2.1)\n",
            "Collecting rechunker>=0.5.1 (from xarray-beam->weatherbench2==0.2.1)\n",
            "  Downloading rechunker-0.5.4-py3-none-any.whl.metadata (4.1 kB)\n",
            "Collecting donfig>=0.8 (from zarr->weatherbench2==0.2.1)\n",
            "  Downloading donfig-0.8.1.post1-py3-none-any.whl.metadata (5.0 kB)\n",
            "Collecting numcodecs>=0.14 (from numcodecs[crc32c]>=0.14->zarr->weatherbench2==0.2.1)\n",
            "  Downloading numcodecs-0.16.1-cp311-cp311-manylinux_2_17_x86_64.manylinux2014_x86_64.whl.metadata (3.3 kB)\n",
            "Collecting docopt (from hdfs<3.0.0,>=2.1.0->apache_beam>=2.31.0->weatherbench2==0.2.1)\n",
            "  Downloading docopt-0.6.2.tar.gz (25 kB)\n",
            "  Preparing metadata (setup.py) ... \u001b[?25l\u001b[?25hdone\n",
            "Requirement already satisfied: six>=1.9.0 in /usr/local/lib/python3.11/dist-packages (from hdfs<3.0.0,>=2.1.0->apache_beam>=2.31.0->weatherbench2==0.2.1) (1.17.0)\n",
            "Requirement already satisfied: pyparsing!=3.0.0,!=3.0.1,!=3.0.2,!=3.0.3,<4,>=2.4.2 in /usr/local/lib/python3.11/dist-packages (from httplib2<0.23.0,>=0.8->apache_beam>=2.31.0->weatherbench2==0.2.1) (3.2.3)\n",
            "Requirement already satisfied: attrs>=22.2.0 in /usr/local/lib/python3.11/dist-packages (from jsonschema<5.0.0,>=4.0.0->apache_beam>=2.31.0->weatherbench2==0.2.1) (25.3.0)\n",
            "Requirement already satisfied: jsonschema-specifications>=2023.03.6 in /usr/local/lib/python3.11/dist-packages (from jsonschema<5.0.0,>=4.0.0->apache_beam>=2.31.0->weatherbench2==0.2.1) (2025.4.1)\n",
            "Requirement already satisfied: referencing>=0.28.4 in /usr/local/lib/python3.11/dist-packages (from jsonschema<5.0.0,>=4.0.0->apache_beam>=2.31.0->weatherbench2==0.2.1) (0.36.2)\n",
            "Requirement already satisfied: rpds-py>=0.7.1 in /usr/local/lib/python3.11/dist-packages (from jsonschema<5.0.0,>=4.0.0->apache_beam>=2.31.0->weatherbench2==0.2.1) (0.26.0)\n",
            "Collecting crc32c>=2.7 (from numcodecs[crc32c]>=0.14->zarr->weatherbench2==0.2.1)\n",
            "  Downloading crc32c-2.7.1-cp311-cp311-manylinux_2_5_x86_64.manylinux1_x86_64.manylinux_2_17_x86_64.manylinux2014_x86_64.whl.metadata (7.3 kB)\n",
            "Collecting dnspython<3.0.0,>=1.16.0 (from pymongo<5.0.0,>=3.8.0->apache_beam>=2.31.0->weatherbench2==0.2.1)\n",
            "  Downloading dnspython-2.7.0-py3-none-any.whl.metadata (5.8 kB)\n",
            "Collecting mypy_extensions (from rechunker>=0.5.1->xarray-beam->weatherbench2==0.2.1)\n",
            "  Downloading mypy_extensions-1.1.0-py3-none-any.whl.metadata (1.1 kB)\n",
            "Collecting zarr (from weatherbench2==0.2.1)\n",
            "  Downloading zarr-2.18.7-py3-none-any.whl.metadata (5.8 kB)\n",
            "Collecting asciitree (from zarr->weatherbench2==0.2.1)\n",
            "  Downloading asciitree-0.3.3.tar.gz (4.0 kB)\n",
            "  Preparing metadata (setup.py) ... \u001b[?25l\u001b[?25hdone\n",
            "INFO: pip is looking at multiple versions of zarr to determine which version is compatible with other requirements. This could take a while.\n",
            "Collecting zarr (from weatherbench2==0.2.1)\n",
            "  Downloading zarr-2.18.6-py3-none-any.whl.metadata (5.8 kB)\n",
            "Collecting PyJWT~=2.9.0 (from redis<6,>=5.0.0->apache_beam>=2.31.0->weatherbench2==0.2.1)\n",
            "  Downloading PyJWT-2.9.0-py3-none-any.whl.metadata (3.0 kB)\n",
            "Requirement already satisfied: charset-normalizer<4,>=2 in /usr/local/lib/python3.11/dist-packages (from requests<3.0.0,>=2.24.0->apache_beam>=2.31.0->weatherbench2==0.2.1) (3.4.2)\n",
            "Requirement already satisfied: idna<4,>=2.5 in /usr/local/lib/python3.11/dist-packages (from requests<3.0.0,>=2.24.0->apache_beam>=2.31.0->weatherbench2==0.2.1) (3.10)\n",
            "Requirement already satisfied: urllib3<3,>=1.21.1 in /usr/local/lib/python3.11/dist-packages (from requests<3.0.0,>=2.24.0->apache_beam>=2.31.0->weatherbench2==0.2.1) (2.4.0)\n",
            "Requirement already satisfied: certifi>=2017.4.17 in /usr/local/lib/python3.11/dist-packages (from requests<3.0.0,>=2.24.0->apache_beam>=2.31.0->weatherbench2==0.2.1) (2025.6.15)\n",
            "Requirement already satisfied: click>=8.1 in /usr/local/lib/python3.11/dist-packages (from dask->xarray-beam->weatherbench2==0.2.1) (8.2.1)\n",
            "Requirement already satisfied: cloudpickle>=3.0.0 in /usr/local/lib/python3.11/dist-packages (from dask->xarray-beam->weatherbench2==0.2.1) (3.1.1)\n",
            "Requirement already satisfied: fsspec>=2021.09.0 in /usr/local/lib/python3.11/dist-packages (from dask->xarray-beam->weatherbench2==0.2.1) (2025.3.2)\n",
            "Requirement already satisfied: partd>=1.4.0 in /usr/local/lib/python3.11/dist-packages (from dask->xarray-beam->weatherbench2==0.2.1) (1.4.2)\n",
            "Requirement already satisfied: toolz>=0.10.0 in /usr/local/lib/python3.11/dist-packages (from dask->xarray-beam->weatherbench2==0.2.1) (0.12.1)\n",
            "Requirement already satisfied: importlib_metadata>=4.13.0 in /usr/local/lib/python3.11/dist-packages (from dask->xarray-beam->weatherbench2==0.2.1) (8.7.0)\n",
            "Requirement already satisfied: zipp>=3.20 in /usr/local/lib/python3.11/dist-packages (from importlib_metadata>=4.13.0->dask->xarray-beam->weatherbench2==0.2.1) (3.23.0)\n",
            "Requirement already satisfied: locket in /usr/local/lib/python3.11/dist-packages (from partd>=1.4.0->dask->xarray-beam->weatherbench2==0.2.1) (1.0.0)\n",
            "Requirement already satisfied: bokeh>=3.1.0 in /usr/local/lib/python3.11/dist-packages (from dask[array,diagnostics]->rechunker>=0.5.1->xarray-beam->weatherbench2==0.2.1) (3.7.3)\n",
            "Requirement already satisfied: jinja2>=2.10.3 in /usr/local/lib/python3.11/dist-packages (from dask[array,diagnostics]->rechunker>=0.5.1->xarray-beam->weatherbench2==0.2.1) (3.1.6)\n",
            "Requirement already satisfied: contourpy>=1.2 in /usr/local/lib/python3.11/dist-packages (from bokeh>=3.1.0->dask[array,diagnostics]->rechunker>=0.5.1->xarray-beam->weatherbench2==0.2.1) (1.3.2)\n",
            "Requirement already satisfied: narwhals>=1.13 in /usr/local/lib/python3.11/dist-packages (from bokeh>=3.1.0->dask[array,diagnostics]->rechunker>=0.5.1->xarray-beam->weatherbench2==0.2.1) (1.45.0)\n",
            "Requirement already satisfied: pillow>=7.1.0 in /usr/local/lib/python3.11/dist-packages (from bokeh>=3.1.0->dask[array,diagnostics]->rechunker>=0.5.1->xarray-beam->weatherbench2==0.2.1) (11.2.1)\n",
            "Requirement already satisfied: tornado>=6.2 in /usr/local/lib/python3.11/dist-packages (from bokeh>=3.1.0->dask[array,diagnostics]->rechunker>=0.5.1->xarray-beam->weatherbench2==0.2.1) (6.4.2)\n",
            "Requirement already satisfied: xyzservices>=2021.09.1 in /usr/local/lib/python3.11/dist-packages (from bokeh>=3.1.0->dask[array,diagnostics]->rechunker>=0.5.1->xarray-beam->weatherbench2==0.2.1) (2025.4.0)\n",
            "Requirement already satisfied: MarkupSafe>=2.0 in /usr/local/lib/python3.11/dist-packages (from jinja2>=2.10.3->dask[array,diagnostics]->rechunker>=0.5.1->xarray-beam->weatherbench2==0.2.1) (3.0.2)\n",
            "Downloading apache_beam-2.66.0-cp311-cp311-manylinux_2_17_x86_64.manylinux2014_x86_64.whl (17.4 MB)\n",
            "\u001b[2K   \u001b[90m━━━━━━━━━━━━━━━━━━━━━━━━━━━━━━━━━━━━━━━━\u001b[0m \u001b[32m17.4/17.4 MB\u001b[0m \u001b[31m66.3 MB/s\u001b[0m eta \u001b[36m0:00:00\u001b[0m\n",
            "\u001b[?25hDownloading cftime-1.6.4.post1-cp311-cp311-manylinux_2_17_x86_64.manylinux2014_x86_64.whl (1.4 MB)\n",
            "\u001b[2K   \u001b[90m━━━━━━━━━━━━━━━━━━━━━━━━━━━━━━━━━━━━━━━━\u001b[0m \u001b[32m1.4/1.4 MB\u001b[0m \u001b[31m49.5 MB/s\u001b[0m eta \u001b[36m0:00:00\u001b[0m\n",
            "\u001b[?25hDownloading numpy-2.2.6-cp311-cp311-manylinux_2_17_x86_64.manylinux2014_x86_64.whl (16.8 MB)\n",
            "\u001b[2K   \u001b[90m━━━━━━━━━━━━━━━━━━━━━━━━━━━━━━━━━━━━━━━━\u001b[0m \u001b[32m16.8/16.8 MB\u001b[0m \u001b[31m62.4 MB/s\u001b[0m eta \u001b[36m0:00:00\u001b[0m\n",
            "\u001b[?25hDownloading pandas-2.3.0-cp311-cp311-manylinux_2_17_x86_64.manylinux2014_x86_64.whl (12.4 MB)\n",
            "\u001b[2K   \u001b[90m━━━━━━━━━━━━━━━━━━━━━━━━━━━━━━━━━━━━━━━━\u001b[0m \u001b[32m12.4/12.4 MB\u001b[0m \u001b[31m76.0 MB/s\u001b[0m eta \u001b[36m0:00:00\u001b[0m\n",
            "\u001b[?25hDownloading xarray_beam-0.8.0-py3-none-any.whl (47 kB)\n",
            "\u001b[2K   \u001b[90m━━━━━━━━━━━━━━━━━━━━━━━━━━━━━━━━━━━━━━━━\u001b[0m \u001b[32m48.0/48.0 kB\u001b[0m \u001b[31m3.0 MB/s\u001b[0m eta \u001b[36m0:00:00\u001b[0m\n",
            "\u001b[?25hDownloading fastavro-1.11.1-cp311-cp311-manylinux_2_17_x86_64.manylinux2014_x86_64.whl (3.3 MB)\n",
            "\u001b[2K   \u001b[90m━━━━━━━━━━━━━━━━━━━━━━━━━━━━━━━━━━━━━━━━\u001b[0m \u001b[32m3.3/3.3 MB\u001b[0m \u001b[31m64.8 MB/s\u001b[0m eta \u001b[36m0:00:00\u001b[0m\n",
            "\u001b[?25hDownloading fasteners-0.19-py3-none-any.whl (18 kB)\n",
            "Downloading grpcio-1.65.5-cp311-cp311-manylinux_2_17_x86_64.manylinux2014_x86_64.whl (5.7 MB)\n",
            "\u001b[2K   \u001b[90m━━━━━━━━━━━━━━━━━━━━━━━━━━━━━━━━━━━━━━━━\u001b[0m \u001b[32m5.7/5.7 MB\u001b[0m \u001b[31m67.1 MB/s\u001b[0m eta \u001b[36m0:00:00\u001b[0m\n",
            "\u001b[?25hDownloading jsonpickle-3.4.2-py3-none-any.whl (46 kB)\n",
            "\u001b[2K   \u001b[90m━━━━━━━━━━━━━━━━━━━━━━━━━━━━━━━━━━━━━━━━\u001b[0m \u001b[32m46.3/46.3 kB\u001b[0m \u001b[31m2.6 MB/s\u001b[0m eta \u001b[36m0:00:00\u001b[0m\n",
            "\u001b[?25hDownloading numcodecs-0.16.1-cp311-cp311-manylinux_2_17_x86_64.manylinux2014_x86_64.whl (8.8 MB)\n",
            "\u001b[2K   \u001b[90m━━━━━━━━━━━━━━━━━━━━━━━━━━━━━━━━━━━━━━━━\u001b[0m \u001b[32m8.8/8.8 MB\u001b[0m \u001b[31m70.0 MB/s\u001b[0m eta \u001b[36m0:00:00\u001b[0m\n",
            "\u001b[?25hDownloading objsize-0.7.1-py3-none-any.whl (11 kB)\n",
            "Downloading pyarrow_hotfix-0.7-py3-none-any.whl (7.9 kB)\n",
            "Downloading pydot-1.4.2-py2.py3-none-any.whl (21 kB)\n",
            "Downloading pymongo-4.13.2-cp311-cp311-manylinux_2_17_x86_64.manylinux2014_x86_64.whl (1.4 MB)\n",
            "\u001b[2K   \u001b[90m━━━━━━━━━━━━━━━━━━━━━━━━━━━━━━━━━━━━━━━━\u001b[0m \u001b[32m1.4/1.4 MB\u001b[0m \u001b[31m10.8 MB/s\u001b[0m eta \u001b[36m0:00:00\u001b[0m\n",
            "\u001b[?25hDownloading rechunker-0.5.4-py3-none-any.whl (22 kB)\n",
            "Downloading zarr-2.18.6-py3-none-any.whl (211 kB)\n",
            "\u001b[2K   \u001b[90m━━━━━━━━━━━━━━━━━━━━━━━━━━━━━━━━━━━━━━━━\u001b[0m \u001b[32m211.3/211.3 kB\u001b[0m \u001b[31m10.6 MB/s\u001b[0m eta \u001b[36m0:00:00\u001b[0m\n",
            "\u001b[?25hDownloading redis-5.3.0-py3-none-any.whl (272 kB)\n",
            "\u001b[2K   \u001b[90m━━━━━━━━━━━━━━━━━━━━━━━━━━━━━━━━━━━━━━━━\u001b[0m \u001b[32m272.8/272.8 kB\u001b[0m \u001b[31m18.1 MB/s\u001b[0m eta \u001b[36m0:00:00\u001b[0m\n",
            "\u001b[?25hDownloading dnspython-2.7.0-py3-none-any.whl (313 kB)\n",
            "\u001b[2K   \u001b[90m━━━━━━━━━━━━━━━━━━━━━━━━━━━━━━━━━━━━━━━━\u001b[0m \u001b[32m313.6/313.6 kB\u001b[0m \u001b[31m21.8 MB/s\u001b[0m eta \u001b[36m0:00:00\u001b[0m\n",
            "\u001b[?25hDownloading PyJWT-2.9.0-py3-none-any.whl (22 kB)\n",
            "Downloading mypy_extensions-1.1.0-py3-none-any.whl (5.0 kB)\n",
            "Building wheels for collected packages: weatherbench2, crcmod, dill, hdfs, asciitree, docopt\n",
            "  Building wheel for weatherbench2 (pyproject.toml) ... \u001b[?25l\u001b[?25hdone\n",
            "  Created wheel for weatherbench2: filename=weatherbench2-0.2.1-py3-none-any.whl size=79893 sha256=a13bed6a70b9ea921e691653db7a7a9aa61122b85e60034b9cab02e466d8e8a0\n",
            "  Stored in directory: /tmp/pip-ephem-wheel-cache-wta7x65_/wheels/50/b4/e3/20d374028ee61e1c8af9626d7a5ff2d4cb3d1612e557b35cb4\n",
            "  Building wheel for crcmod (setup.py) ... \u001b[?25l\u001b[?25hdone\n",
            "  Created wheel for crcmod: filename=crcmod-1.7-cp311-cp311-linux_x86_64.whl size=31659 sha256=e284c97212c58dd417ee3b02b78d2f933af1dc8b5b0629b19ee958ab537a1eac\n",
            "  Stored in directory: /root/.cache/pip/wheels/23/94/7a/8cb7d14597e6395ce969933f01aed9ea8fa5f5b4d4c8a61e99\n",
            "  Building wheel for dill (setup.py) ... \u001b[?25l\u001b[?25hdone\n",
            "  Created wheel for dill: filename=dill-0.3.1.1-py3-none-any.whl size=78544 sha256=fba23fa1915a6637b1619d064628c0ef34b82f0afe164dad622b7fe8932dec71\n",
            "  Stored in directory: /root/.cache/pip/wheels/01/60/80/1622338bcecce31a5664ef01c203cc5a7b09f59588d9c07376\n",
            "  Building wheel for hdfs (setup.py) ... \u001b[?25l\u001b[?25hdone\n",
            "  Created wheel for hdfs: filename=hdfs-2.7.3-py3-none-any.whl size=34324 sha256=f27942656955b50247817823ffdb52006a3365982b86fa53c5b1768fa9806406\n",
            "  Stored in directory: /root/.cache/pip/wheels/b9/1d/dc/eb0833be25464c359903d356c4204721c6a672c26ff164cdc3\n",
            "  Building wheel for asciitree (setup.py) ... \u001b[?25l\u001b[?25hdone\n",
            "  Created wheel for asciitree: filename=asciitree-0.3.3-py3-none-any.whl size=5031 sha256=2aa5f1ea77c66deeb8c6b432cd4ab51481a9d43f571eb87fe4c753813bb4e95d\n",
            "  Stored in directory: /root/.cache/pip/wheels/71/c1/da/23077eb3b87d24d6f3852ed1ed1a1ac2d3c885ad6ebd2b4a07\n",
            "  Building wheel for docopt (setup.py) ... \u001b[?25l\u001b[?25hdone\n",
            "  Created wheel for docopt: filename=docopt-0.6.2-py2.py3-none-any.whl size=13706 sha256=f169088ee5cedf196f3fb66e96223972e9df4396aa7270329ac1202458c00bb7\n",
            "  Stored in directory: /root/.cache/pip/wheels/1a/b0/8c/4b75c4116c31f83c8f9f047231251e13cc74481cca4a78a9ce\n",
            "Successfully built weatherbench2 crcmod dill hdfs asciitree docopt\n",
            "Installing collected packages: docopt, crcmod, asciitree, PyJWT, pydot, pyarrow-hotfix, objsize, numpy, mypy_extensions, jsonpickle, grpcio, fasteners, fastavro, dnspython, dill, redis, pymongo, pandas, numcodecs, hdfs, cftime, zarr, apache_beam, rechunker, xarray-beam, weatherbench2\n",
            "  Attempting uninstall: PyJWT\n",
            "    Found existing installation: PyJWT 2.10.1\n",
            "    Uninstalling PyJWT-2.10.1:\n",
            "      Successfully uninstalled PyJWT-2.10.1\n",
            "  Attempting uninstall: pydot\n",
            "    Found existing installation: pydot 3.0.4\n",
            "    Uninstalling pydot-3.0.4:\n",
            "      Successfully uninstalled pydot-3.0.4\n",
            "  Attempting uninstall: numpy\n",
            "    Found existing installation: numpy 2.0.2\n",
            "    Uninstalling numpy-2.0.2:\n",
            "      Successfully uninstalled numpy-2.0.2\n",
            "  Attempting uninstall: jsonpickle\n",
            "    Found existing installation: jsonpickle 4.1.1\n",
            "    Uninstalling jsonpickle-4.1.1:\n",
            "      Successfully uninstalled jsonpickle-4.1.1\n",
            "  Attempting uninstall: grpcio\n",
            "    Found existing installation: grpcio 1.73.1\n",
            "    Uninstalling grpcio-1.73.1:\n",
            "      Successfully uninstalled grpcio-1.73.1\n",
            "  Attempting uninstall: dill\n",
            "    Found existing installation: dill 0.3.7\n",
            "    Uninstalling dill-0.3.7:\n",
            "      Successfully uninstalled dill-0.3.7\n",
            "  Attempting uninstall: pandas\n",
            "    Found existing installation: pandas 2.2.2\n",
            "    Uninstalling pandas-2.2.2:\n",
            "      Successfully uninstalled pandas-2.2.2\n",
            "\u001b[31mERROR: pip's dependency resolver does not currently take into account all the packages that are installed. This behaviour is the source of the following dependency conflicts.\n",
            "google-colab 1.0.0 requires pandas==2.2.2, but you have pandas 2.3.0 which is incompatible.\n",
            "multiprocess 0.70.15 requires dill>=0.3.7, but you have dill 0.3.1.1 which is incompatible.\n",
            "numba 0.60.0 requires numpy<2.1,>=1.22, but you have numpy 2.2.6 which is incompatible.\n",
            "dask-cudf-cu12 25.2.2 requires pandas<2.2.4dev0,>=2.0, but you have pandas 2.3.0 which is incompatible.\n",
            "tensorflow 2.18.0 requires numpy<2.1.0,>=1.26.0, but you have numpy 2.2.6 which is incompatible.\n",
            "cudf-cu12 25.2.1 requires pandas<2.2.4dev0,>=2.0, but you have pandas 2.3.0 which is incompatible.\n",
            "grpcio-status 1.71.2 requires grpcio>=1.71.2, but you have grpcio 1.65.5 which is incompatible.\u001b[0m\u001b[31m\n",
            "\u001b[0mSuccessfully installed PyJWT-2.9.0 apache_beam-2.66.0 asciitree-0.3.3 cftime-1.6.4.post1 crcmod-1.7 dill-0.3.1.1 dnspython-2.7.0 docopt-0.6.2 fastavro-1.11.1 fasteners-0.19 grpcio-1.65.5 hdfs-2.7.3 jsonpickle-3.4.2 mypy_extensions-1.1.0 numcodecs-0.16.1 numpy-2.2.6 objsize-0.7.1 pandas-2.3.0 pyarrow-hotfix-0.7 pydot-1.4.2 pymongo-4.13.2 rechunker-0.5.4 redis-5.3.0 weatherbench2-0.2.1 xarray-beam-0.8.0 zarr-2.18.6\n"
          ]
        },
        {
          "output_type": "display_data",
          "data": {
            "application/vnd.colab-display-data+json": {
              "pip_warning": {
                "packages": [
                  "numpy"
                ]
              },
              "id": "557f241b5ca24c7398897a0559b99fa8"
            }
          },
          "metadata": {}
        },
        {
          "output_type": "stream",
          "name": "stdout",
          "text": [
            "Requirement already satisfied: zarr in /usr/local/lib/python3.11/dist-packages (2.18.6)\n",
            "Requirement already satisfied: asciitree in /usr/local/lib/python3.11/dist-packages (from zarr) (0.3.3)\n",
            "Requirement already satisfied: numpy>=1.24 in /usr/local/lib/python3.11/dist-packages (from zarr) (2.2.6)\n",
            "Requirement already satisfied: fasteners in /usr/local/lib/python3.11/dist-packages (from zarr) (0.19)\n",
            "Requirement already satisfied: numcodecs!=0.14.0,!=0.14.1,>=0.10.0 in /usr/local/lib/python3.11/dist-packages (from zarr) (0.16.1)\n",
            "Requirement already satisfied: typing_extensions in /usr/local/lib/python3.11/dist-packages (from numcodecs!=0.14.0,!=0.14.1,>=0.10.0->zarr) (4.14.0)\n"
          ]
        }
      ],
      "source": [
        "# Pip might complain about the Pandas version. The notebook should still work as expected.\n",
        "!pip install git+https://github.com/google-research/weatherbench2.git\n",
        "!pip install zarr"
      ]
    },
    {
      "cell_type": "code",
      "execution_count": 2,
      "id": "70b4fd7a-d599-4d82-986f-4ec51743e98c",
      "metadata": {
        "id": "70b4fd7a-d599-4d82-986f-4ec51743e98c",
        "outputId": "29be889d-6e7b-40c1-9c92-75abd9af4618",
        "colab": {
          "base_uri": "https://localhost:8080/",
          "height": 240
        }
      },
      "outputs": [
        {
          "output_type": "error",
          "ename": "KeyboardInterrupt",
          "evalue": "",
          "traceback": [
            "\u001b[0;31m---------------------------------------------------------------------------\u001b[0m",
            "\u001b[0;31mKeyboardInterrupt\u001b[0m                         Traceback (most recent call last)",
            "\u001b[0;32m/tmp/ipython-input-2-1829510125.py\u001b[0m in \u001b[0;36m<cell line: 0>\u001b[0;34m()\u001b[0m\n\u001b[0;32m----> 1\u001b[0;31m \u001b[0;32mimport\u001b[0m \u001b[0mapache_beam\u001b[0m   \u001b[0;31m# Needs to be imported separately to avoid TypingError\u001b[0m\u001b[0;34m\u001b[0m\u001b[0;34m\u001b[0m\u001b[0m\n\u001b[0m\u001b[1;32m      2\u001b[0m \u001b[0;32mimport\u001b[0m \u001b[0mweatherbench2\u001b[0m\u001b[0;34m\u001b[0m\u001b[0;34m\u001b[0m\u001b[0m\n\u001b[1;32m      3\u001b[0m \u001b[0;32mimport\u001b[0m \u001b[0mxarray\u001b[0m \u001b[0;32mas\u001b[0m \u001b[0mxr\u001b[0m\u001b[0;34m\u001b[0m\u001b[0;34m\u001b[0m\u001b[0m\n",
            "\u001b[0;32m/usr/local/lib/python3.11/dist-packages/apache_beam/__init__.py\u001b[0m in \u001b[0;36m<module>\u001b[0;34m\u001b[0m\n\u001b[1;32m     85\u001b[0m \u001b[0;32mimport\u001b[0m \u001b[0mapache_beam\u001b[0m\u001b[0;34m.\u001b[0m\u001b[0minternal\u001b[0m\u001b[0;34m.\u001b[0m\u001b[0mpickler\u001b[0m\u001b[0;34m\u001b[0m\u001b[0;34m\u001b[0m\u001b[0m\n\u001b[1;32m     86\u001b[0m \u001b[0;34m\u001b[0m\u001b[0m\n\u001b[0;32m---> 87\u001b[0;31m \u001b[0;32mfrom\u001b[0m \u001b[0mapache_beam\u001b[0m \u001b[0;32mimport\u001b[0m \u001b[0mcoders\u001b[0m\u001b[0;34m\u001b[0m\u001b[0;34m\u001b[0m\u001b[0m\n\u001b[0m\u001b[1;32m     88\u001b[0m \u001b[0;32mfrom\u001b[0m \u001b[0mapache_beam\u001b[0m \u001b[0;32mimport\u001b[0m \u001b[0mio\u001b[0m\u001b[0;34m\u001b[0m\u001b[0;34m\u001b[0m\u001b[0m\n\u001b[1;32m     89\u001b[0m \u001b[0;32mfrom\u001b[0m \u001b[0mapache_beam\u001b[0m \u001b[0;32mimport\u001b[0m \u001b[0mmetrics\u001b[0m\u001b[0;34m\u001b[0m\u001b[0;34m\u001b[0m\u001b[0m\n",
            "\u001b[0;32m/usr/local/lib/python3.11/dist-packages/apache_beam/coders/__init__.py\u001b[0m in \u001b[0;36m<module>\u001b[0;34m\u001b[0m\n\u001b[1;32m     15\u001b[0m \u001b[0;31m# limitations under the License.\u001b[0m\u001b[0;34m\u001b[0m\u001b[0;34m\u001b[0m\u001b[0m\n\u001b[1;32m     16\u001b[0m \u001b[0;31m#\u001b[0m\u001b[0;34m\u001b[0m\u001b[0;34m\u001b[0m\u001b[0m\n\u001b[0;32m---> 17\u001b[0;31m \u001b[0;32mfrom\u001b[0m \u001b[0mapache_beam\u001b[0m\u001b[0;34m.\u001b[0m\u001b[0mcoders\u001b[0m\u001b[0;34m.\u001b[0m\u001b[0mcoders\u001b[0m \u001b[0;32mimport\u001b[0m \u001b[0;34m*\u001b[0m\u001b[0;34m\u001b[0m\u001b[0;34m\u001b[0m\u001b[0m\n\u001b[0m\u001b[1;32m     18\u001b[0m \u001b[0;32mfrom\u001b[0m \u001b[0mapache_beam\u001b[0m\u001b[0;34m.\u001b[0m\u001b[0mcoders\u001b[0m\u001b[0;34m.\u001b[0m\u001b[0mrow_coder\u001b[0m \u001b[0;32mimport\u001b[0m \u001b[0;34m*\u001b[0m\u001b[0;34m\u001b[0m\u001b[0;34m\u001b[0m\u001b[0m\n\u001b[1;32m     19\u001b[0m \u001b[0;32mfrom\u001b[0m \u001b[0mapache_beam\u001b[0m\u001b[0;34m.\u001b[0m\u001b[0mcoders\u001b[0m\u001b[0;34m.\u001b[0m\u001b[0mtypecoders\u001b[0m \u001b[0;32mimport\u001b[0m \u001b[0mregistry\u001b[0m\u001b[0;34m\u001b[0m\u001b[0;34m\u001b[0m\u001b[0m\n",
            "\u001b[0;32m/usr/local/lib/python3.11/dist-packages/apache_beam/coders/coders.py\u001b[0m in \u001b[0;36m<module>\u001b[0;34m\u001b[0m\n\u001b[1;32m     58\u001b[0m \u001b[0;32mfrom\u001b[0m \u001b[0mgoogle\u001b[0m\u001b[0;34m.\u001b[0m\u001b[0mprotobuf\u001b[0m \u001b[0;32mimport\u001b[0m \u001b[0mmessage\u001b[0m\u001b[0;34m\u001b[0m\u001b[0;34m\u001b[0m\u001b[0m\n\u001b[1;32m     59\u001b[0m \u001b[0;34m\u001b[0m\u001b[0m\n\u001b[0;32m---> 60\u001b[0;31m \u001b[0;32mfrom\u001b[0m \u001b[0mapache_beam\u001b[0m\u001b[0;34m.\u001b[0m\u001b[0mcoders\u001b[0m \u001b[0;32mimport\u001b[0m \u001b[0mcoder_impl\u001b[0m\u001b[0;34m\u001b[0m\u001b[0;34m\u001b[0m\u001b[0m\n\u001b[0m\u001b[1;32m     61\u001b[0m \u001b[0;32mfrom\u001b[0m \u001b[0mapache_beam\u001b[0m\u001b[0;34m.\u001b[0m\u001b[0mcoders\u001b[0m\u001b[0;34m.\u001b[0m\u001b[0mavro_record\u001b[0m \u001b[0;32mimport\u001b[0m \u001b[0mAvroRecord\u001b[0m\u001b[0;34m\u001b[0m\u001b[0;34m\u001b[0m\u001b[0m\n\u001b[1;32m     62\u001b[0m \u001b[0;32mfrom\u001b[0m \u001b[0mapache_beam\u001b[0m\u001b[0;34m.\u001b[0m\u001b[0minternal\u001b[0m \u001b[0;32mimport\u001b[0m \u001b[0mcloudpickle_pickler\u001b[0m\u001b[0;34m\u001b[0m\u001b[0;34m\u001b[0m\u001b[0m\n",
            "\u001b[0;32m/usr/local/lib/python3.11/dist-packages/apache_beam/coders/coder_impl.cpython-311-x86_64-linux-gnu.so\u001b[0m in \u001b[0;36minit apache_beam.coders.coder_impl\u001b[0;34m()\u001b[0m\n",
            "\u001b[0;32m/usr/local/lib/python3.11/dist-packages/apache_beam/typehints/__init__.py\u001b[0m in \u001b[0;36m<module>\u001b[0;34m\u001b[0m\n\u001b[1;32m     25\u001b[0m \u001b[0;31m# pylint: disable=ungrouped-imports\u001b[0m\u001b[0;34m\u001b[0m\u001b[0;34m\u001b[0m\u001b[0m\n\u001b[1;32m     26\u001b[0m \u001b[0;32mtry\u001b[0m\u001b[0;34m:\u001b[0m\u001b[0;34m\u001b[0m\u001b[0;34m\u001b[0m\u001b[0m\n\u001b[0;32m---> 27\u001b[0;31m   \u001b[0;32mimport\u001b[0m \u001b[0mpandas\u001b[0m \u001b[0;32mas\u001b[0m \u001b[0m_\u001b[0m\u001b[0;34m\u001b[0m\u001b[0;34m\u001b[0m\u001b[0m\n\u001b[0m\u001b[1;32m     28\u001b[0m \u001b[0;32mexcept\u001b[0m \u001b[0mImportError\u001b[0m\u001b[0;34m:\u001b[0m\u001b[0;34m\u001b[0m\u001b[0;34m\u001b[0m\u001b[0m\n\u001b[1;32m     29\u001b[0m   \u001b[0;32mpass\u001b[0m\u001b[0;34m\u001b[0m\u001b[0;34m\u001b[0m\u001b[0m\n",
            "\u001b[0;32m/usr/local/lib/python3.11/dist-packages/pandas/__init__.py\u001b[0m in \u001b[0;36m<module>\u001b[0;34m\u001b[0m\n\u001b[1;32m     24\u001b[0m \u001b[0;32mtry\u001b[0m\u001b[0;34m:\u001b[0m\u001b[0;34m\u001b[0m\u001b[0;34m\u001b[0m\u001b[0m\n\u001b[1;32m     25\u001b[0m     \u001b[0;31m# numpy compat\u001b[0m\u001b[0;34m\u001b[0m\u001b[0;34m\u001b[0m\u001b[0m\n\u001b[0;32m---> 26\u001b[0;31m     from pandas.compat import (\n\u001b[0m\u001b[1;32m     27\u001b[0m         \u001b[0mis_numpy_dev\u001b[0m \u001b[0;32mas\u001b[0m \u001b[0m_is_numpy_dev\u001b[0m\u001b[0;34m,\u001b[0m  \u001b[0;31m# pyright: ignore[reportUnusedImport] # noqa: F401\u001b[0m\u001b[0;34m\u001b[0m\u001b[0;34m\u001b[0m\u001b[0m\n\u001b[1;32m     28\u001b[0m     )\n",
            "\u001b[0;32m/usr/local/lib/python3.11/dist-packages/pandas/compat/__init__.py\u001b[0m in \u001b[0;36m<module>\u001b[0;34m\u001b[0m\n\u001b[1;32m     25\u001b[0m \u001b[0;32mimport\u001b[0m \u001b[0mpandas\u001b[0m\u001b[0;34m.\u001b[0m\u001b[0mcompat\u001b[0m\u001b[0;34m.\u001b[0m\u001b[0mcompressors\u001b[0m\u001b[0;34m\u001b[0m\u001b[0;34m\u001b[0m\u001b[0m\n\u001b[1;32m     26\u001b[0m \u001b[0;32mfrom\u001b[0m \u001b[0mpandas\u001b[0m\u001b[0;34m.\u001b[0m\u001b[0mcompat\u001b[0m\u001b[0;34m.\u001b[0m\u001b[0mnumpy\u001b[0m \u001b[0;32mimport\u001b[0m \u001b[0mis_numpy_dev\u001b[0m\u001b[0;34m\u001b[0m\u001b[0;34m\u001b[0m\u001b[0m\n\u001b[0;32m---> 27\u001b[0;31m from pandas.compat.pyarrow import (\n\u001b[0m\u001b[1;32m     28\u001b[0m     \u001b[0mHAS_PYARROW\u001b[0m\u001b[0;34m,\u001b[0m\u001b[0;34m\u001b[0m\u001b[0;34m\u001b[0m\u001b[0m\n\u001b[1;32m     29\u001b[0m     \u001b[0mpa_version_under10p1\u001b[0m\u001b[0;34m,\u001b[0m\u001b[0;34m\u001b[0m\u001b[0;34m\u001b[0m\u001b[0m\n",
            "\u001b[0;32m/usr/local/lib/python3.11/dist-packages/pandas/compat/pyarrow.py\u001b[0m in \u001b[0;36m<module>\u001b[0;34m\u001b[0m\n\u001b[1;32m      6\u001b[0m \u001b[0;34m\u001b[0m\u001b[0m\n\u001b[1;32m      7\u001b[0m \u001b[0;32mtry\u001b[0m\u001b[0;34m:\u001b[0m\u001b[0;34m\u001b[0m\u001b[0;34m\u001b[0m\u001b[0m\n\u001b[0;32m----> 8\u001b[0;31m     \u001b[0;32mimport\u001b[0m \u001b[0mpyarrow\u001b[0m \u001b[0;32mas\u001b[0m \u001b[0mpa\u001b[0m\u001b[0;34m\u001b[0m\u001b[0;34m\u001b[0m\u001b[0m\n\u001b[0m\u001b[1;32m      9\u001b[0m \u001b[0;34m\u001b[0m\u001b[0m\n\u001b[1;32m     10\u001b[0m     \u001b[0m_palv\u001b[0m \u001b[0;34m=\u001b[0m \u001b[0mVersion\u001b[0m\u001b[0;34m(\u001b[0m\u001b[0mVersion\u001b[0m\u001b[0;34m(\u001b[0m\u001b[0mpa\u001b[0m\u001b[0;34m.\u001b[0m\u001b[0m__version__\u001b[0m\u001b[0;34m)\u001b[0m\u001b[0;34m.\u001b[0m\u001b[0mbase_version\u001b[0m\u001b[0;34m)\u001b[0m\u001b[0;34m\u001b[0m\u001b[0;34m\u001b[0m\u001b[0m\n",
            "\u001b[0;32m/usr/local/lib/python3.11/dist-packages/pyarrow/__init__.py\u001b[0m in \u001b[0;36m<module>\u001b[0;34m\u001b[0m\n\u001b[1;32m     63\u001b[0m \u001b[0m_gc_enabled\u001b[0m \u001b[0;34m=\u001b[0m \u001b[0m_gc\u001b[0m\u001b[0;34m.\u001b[0m\u001b[0misenabled\u001b[0m\u001b[0;34m(\u001b[0m\u001b[0;34m)\u001b[0m\u001b[0;34m\u001b[0m\u001b[0;34m\u001b[0m\u001b[0m\n\u001b[1;32m     64\u001b[0m \u001b[0m_gc\u001b[0m\u001b[0;34m.\u001b[0m\u001b[0mdisable\u001b[0m\u001b[0;34m(\u001b[0m\u001b[0;34m)\u001b[0m\u001b[0;34m\u001b[0m\u001b[0;34m\u001b[0m\u001b[0m\n\u001b[0;32m---> 65\u001b[0;31m \u001b[0;32mimport\u001b[0m \u001b[0mpyarrow\u001b[0m\u001b[0;34m.\u001b[0m\u001b[0mlib\u001b[0m \u001b[0;32mas\u001b[0m \u001b[0m_lib\u001b[0m\u001b[0;34m\u001b[0m\u001b[0;34m\u001b[0m\u001b[0m\n\u001b[0m\u001b[1;32m     66\u001b[0m \u001b[0;32mif\u001b[0m \u001b[0m_gc_enabled\u001b[0m\u001b[0;34m:\u001b[0m\u001b[0;34m\u001b[0m\u001b[0;34m\u001b[0m\u001b[0m\n\u001b[1;32m     67\u001b[0m     \u001b[0m_gc\u001b[0m\u001b[0;34m.\u001b[0m\u001b[0menable\u001b[0m\u001b[0;34m(\u001b[0m\u001b[0;34m)\u001b[0m\u001b[0;34m\u001b[0m\u001b[0;34m\u001b[0m\u001b[0m\n",
            "\u001b[0;32m/usr/lib/python3.11/importlib/_bootstrap.py\u001b[0m in \u001b[0;36mparent\u001b[0;34m(self)\u001b[0m\n",
            "\u001b[0;31mKeyboardInterrupt\u001b[0m: "
          ]
        }
      ],
      "source": [
        "import apache_beam   # Needs to be imported separately to avoid TypingError\n",
        "import weatherbench2\n",
        "import xarray as xr"
      ]
    },
    {
      "cell_type": "code",
      "execution_count": null,
      "id": "f6b59ae2-4ca9-4b93-8e9f-6ac2304bad50",
      "metadata": {
        "id": "f6b59ae2-4ca9-4b93-8e9f-6ac2304bad50"
      },
      "outputs": [],
      "source": [
        "# Run the code below to access cloud data on Colab!\n",
        "from google.colab import auth\n",
        "auth.authenticate_user()"
      ]
    },
    {
      "cell_type": "markdown",
      "id": "959f9b8f-00d2-405a-b07d-5593c3314e3f",
      "metadata": {
        "id": "959f9b8f-00d2-405a-b07d-5593c3314e3f"
      },
      "source": [
        "### Specify input datasets\n",
        "\n",
        "Let's take a look at the datasets. Currently, the WeatherBench pipeline requires all input dataset to be stored as Zarr files."
      ]
    },
    {
      "cell_type": "code",
      "execution_count": null,
      "id": "4b6ec0cb-928f-4e50-a077-802b5a51e469",
      "metadata": {
        "id": "4b6ec0cb-928f-4e50-a077-802b5a51e469"
      },
      "outputs": [],
      "source": [
        "forecast_path = 'gs://weatherbench2/datasets/hres/2016-2022-0012-64x32_equiangular_conservative.zarr'\n",
        "obs_path = 'gs://weatherbench2/datasets/era5/1959-2022-6h-64x32_equiangular_conservative.zarr'\n",
        "climatology_path = 'gs://weatherbench2/datasets/era5-hourly-climatology/1990-2019_6h_64x32_equiangular_conservative.zarr'"
      ]
    },
    {
      "cell_type": "markdown",
      "id": "8abcc6c7-1766-4a2a-a99f-bbd062500562",
      "metadata": {
        "id": "8abcc6c7-1766-4a2a-a99f-bbd062500562"
      },
      "source": [
        "Generally, we follow ECMWF's naming conventions for the input files.\n",
        "\n",
        "* `time` [np.datetime64]: Time at forecast is initialized\n",
        "* `lead_time` or `prediction_timedelta` [np.timedelta64]: Lead time\n",
        "* `latitude` [float]: Latitudes from -90 to 90\n",
        "* `longitude` [float]: Longitudes from 0 to 360\n",
        "* `level` [hPa]: Pressure levels (optional)\n",
        "\n",
        "We don't actually need to open the forecast and obs datasets at this point, but we will do so here to see their structure."
      ]
    },
    {
      "cell_type": "code",
      "execution_count": null,
      "id": "56de9923-acc3-49e8-90e9-a3286ff45d86",
      "metadata": {
        "id": "56de9923-acc3-49e8-90e9-a3286ff45d86"
      },
      "outputs": [],
      "source": [
        "xr.open_zarr(forecast_path)"
      ]
    },
    {
      "cell_type": "code",
      "execution_count": null,
      "id": "cd35d83d-7d6b-4475-9509-3639274fec99",
      "metadata": {
        "id": "cd35d83d-7d6b-4475-9509-3639274fec99"
      },
      "outputs": [],
      "source": [
        "xr.open_zarr(obs_path)"
      ]
    },
    {
      "cell_type": "markdown",
      "id": "4ed2994f-bb1f-4e6c-8aa7-df7233b436dc",
      "metadata": {
        "id": "4ed2994f-bb1f-4e6c-8aa7-df7233b436dc"
      },
      "source": [
        "Some metrics like the ACC also require a climatology file. Refer to the paper for details on how this is computed."
      ]
    },
    {
      "cell_type": "code",
      "execution_count": null,
      "id": "2c321485-1ab7-48a0-a3e2-ccd561ff3fbf",
      "metadata": {
        "id": "2c321485-1ab7-48a0-a3e2-ccd561ff3fbf"
      },
      "outputs": [],
      "source": [
        "climatology = xr.open_zarr(climatology_path)\n",
        "climatology"
      ]
    },
    {
      "cell_type": "markdown",
      "id": "034295ed-433f-4731-a932-37b423df1477",
      "metadata": {
        "id": "034295ed-433f-4731-a932-37b423df1477"
      },
      "source": [
        "### Set up WeatherBench configuration\n",
        "\n",
        "Next, we will define a bunch of configuration instances to specify exactly what we want to evaluate."
      ]
    },
    {
      "cell_type": "code",
      "execution_count": null,
      "id": "097c47bb-38ab-4d7d-94a9-794f9fd3353d",
      "metadata": {
        "id": "097c47bb-38ab-4d7d-94a9-794f9fd3353d"
      },
      "outputs": [],
      "source": [
        "from weatherbench2 import config"
      ]
    },
    {
      "cell_type": "markdown",
      "id": "7ce91925-4c6b-4fd5-8ac0-b828e3eca417",
      "metadata": {
        "id": "7ce91925-4c6b-4fd5-8ac0-b828e3eca417"
      },
      "source": [
        "#### Data configuration\n",
        "\n",
        "The file paths are defined in a Paths config object, alongside an output directory:"
      ]
    },
    {
      "cell_type": "code",
      "execution_count": null,
      "id": "4d647baf-6711-4e8e-8d36-ec821fed6c32",
      "metadata": {
        "id": "4d647baf-6711-4e8e-8d36-ec821fed6c32"
      },
      "outputs": [],
      "source": [
        "paths = config.Paths(\n",
        "    forecast=forecast_path,\n",
        "    obs=obs_path,\n",
        "    output_dir='./',   # Directory to save evaluation results\n",
        ")"
      ]
    },
    {
      "cell_type": "markdown",
      "id": "18e6ecd0-316e-4c1b-a349-06394ad4d229",
      "metadata": {
        "id": "18e6ecd0-316e-4c1b-a349-06394ad4d229"
      },
      "source": [
        "In addition, we specify a Selection object that selects the variables and time period to be evaluated."
      ]
    },
    {
      "cell_type": "code",
      "execution_count": null,
      "id": "d22b276a-613a-4ac0-93cc-45e2797441e3",
      "metadata": {
        "id": "d22b276a-613a-4ac0-93cc-45e2797441e3"
      },
      "outputs": [],
      "source": [
        "selection = config.Selection(\n",
        "    variables=[\n",
        "        'geopotential',\n",
        "        '2m_temperature'\n",
        "    ],\n",
        "    levels=[500, 700, 850],\n",
        "    time_slice=slice('2020-01-01', '2020-12-31'),\n",
        ")"
      ]
    },
    {
      "cell_type": "markdown",
      "id": "d5286330-d0f4-4da9-8394-f8536790dd9c",
      "metadata": {
        "id": "d5286330-d0f4-4da9-8394-f8536790dd9c"
      },
      "source": [
        "Together they make up the Data config:"
      ]
    },
    {
      "cell_type": "code",
      "execution_count": null,
      "id": "e299d579-7ece-46f3-828c-b169a80a564c",
      "metadata": {
        "id": "e299d579-7ece-46f3-828c-b169a80a564c"
      },
      "outputs": [],
      "source": [
        "data_config = config.Data(selection=selection, paths=paths)"
      ]
    },
    {
      "cell_type": "markdown",
      "id": "c3309e72-db02-4eae-b84d-4bfb49b2fa31",
      "metadata": {
        "id": "c3309e72-db02-4eae-b84d-4bfb49b2fa31"
      },
      "source": [
        "#### Evaluation configuration\n",
        "\n",
        "Next, we can defined which evaluation we want to run. To do so, we can define a dictionary of `config.Eval`s, each of which will be evaluated separately and saved to a different file. Eval instances contain the metrics objects, defined in metrics.py.\n",
        "\n",
        "Note that for ACC, we additionally need to pass the climatology opened earlier."
      ]
    },
    {
      "cell_type": "code",
      "execution_count": null,
      "id": "e6d14cd6-b379-4838-8ea4-9ce66334bd6e",
      "metadata": {
        "id": "e6d14cd6-b379-4838-8ea4-9ce66334bd6e"
      },
      "outputs": [],
      "source": [
        "from weatherbench2.metrics import MSE, ACC\n",
        "\n",
        "eval_configs = {\n",
        "  'deterministic': config.Eval(\n",
        "      metrics={\n",
        "          'mse': MSE(),\n",
        "          'acc': ACC(climatology=climatology)\n",
        "      },\n",
        "  )\n",
        "}"
      ]
    },
    {
      "cell_type": "markdown",
      "id": "da6e221c-7a40-40d5-bdc5-73ab7021b120",
      "metadata": {
        "id": "da6e221c-7a40-40d5-bdc5-73ab7021b120"
      },
      "source": [
        "The evaluation configs also have an option to evaluate particular regions, such as a geographical lat-lon box. These are defined as region objects defined in regions.py. All regions will be evaluated separately and saved as an additional dimension in the dataset. If no region is specified, evaluation will be done globally."
      ]
    },
    {
      "cell_type": "code",
      "execution_count": null,
      "id": "1c00935d-ff70-4a80-b96c-269b3a4753a8",
      "metadata": {
        "id": "1c00935d-ff70-4a80-b96c-269b3a4753a8"
      },
      "outputs": [],
      "source": [
        "from weatherbench2.regions import SliceRegion, ExtraTropicalRegion\n",
        "\n",
        "regions = {\n",
        "    'global': SliceRegion(),\n",
        "    'tropics': SliceRegion(lat_slice=slice(-20, 20)),\n",
        "    'extra-tropics': ExtraTropicalRegion(),\n",
        "}\n",
        "\n",
        "eval_configs = {\n",
        "  'deterministic': config.Eval(\n",
        "      metrics={\n",
        "          'mse': MSE(),\n",
        "          'acc': ACC(climatology=climatology)\n",
        "      },\n",
        "      regions=regions\n",
        "  )\n",
        "}"
      ]
    },
    {
      "cell_type": "markdown",
      "id": "f46a917d-6b99-491b-87da-53a3d567e0c8",
      "metadata": {
        "id": "f46a917d-6b99-491b-87da-53a3d567e0c8"
      },
      "source": [
        "### Evaluate\n",
        "\n",
        "Now, we are already done and can run the evaluation. We can do so in memory for smaller datasets or as a Beam pipeline (recommended for anything larger than 64x32 resolution)."
      ]
    },
    {
      "cell_type": "code",
      "execution_count": null,
      "id": "49464fa8-7017-4d82-8f40-00e265289f61",
      "metadata": {
        "id": "49464fa8-7017-4d82-8f40-00e265289f61"
      },
      "outputs": [],
      "source": [
        "from weatherbench2.evaluation import evaluate_in_memory, evaluate_with_beam"
      ]
    },
    {
      "cell_type": "code",
      "execution_count": null,
      "id": "b0a201dd-c32a-4df1-b8f2-09be12781016",
      "metadata": {
        "id": "b0a201dd-c32a-4df1-b8f2-09be12781016"
      },
      "outputs": [],
      "source": [
        "evaluate_in_memory(data_config, eval_configs)   # Takes around 5 minutes"
      ]
    },
    {
      "cell_type": "markdown",
      "id": "dee5ea2e-7909-4730-90d5-fb1a227e14cd",
      "metadata": {
        "id": "dee5ea2e-7909-4730-90d5-fb1a227e14cd"
      },
      "source": [
        "For the Beam version, evaluation is split across chunks. The chunk sizes can be specified alongside the Beam runner. For more detail on running Beam in a distributed fashion on the cloud, see [this guide](https://weatherbench2.readthedocs.io/en/latest/beam-in-the-cloud.html)."
      ]
    },
    {
      "cell_type": "code",
      "execution_count": null,
      "id": "7947f016-80ac-4e8b-9cb5-0adf9a9c9b5f",
      "metadata": {
        "id": "7947f016-80ac-4e8b-9cb5-0adf9a9c9b5f"
      },
      "outputs": [],
      "source": [
        "# evaluation.evaluate_with_beam(\n",
        "#     data_config,\n",
        "#     eval_configs,\n",
        "#     runner='DirectRunner',\n",
        "#     input_chunks={'time': 20},\n",
        "# )"
      ]
    },
    {
      "cell_type": "markdown",
      "id": "50117845-6c07-4012-9318-08932bc5fc9f",
      "metadata": {
        "id": "50117845-6c07-4012-9318-08932bc5fc9f"
      },
      "source": [
        "### Results"
      ]
    },
    {
      "cell_type": "markdown",
      "id": "0a15ffd6-8d02-47ef-8812-a18693827cc8",
      "metadata": {
        "id": "0a15ffd6-8d02-47ef-8812-a18693827cc8"
      },
      "source": [
        "Results are saved as NetCDF files under the name of the eval config."
      ]
    },
    {
      "cell_type": "code",
      "execution_count": null,
      "id": "a4f9d35b-7907-423f-b0fa-15a89e03dcd1",
      "metadata": {
        "id": "a4f9d35b-7907-423f-b0fa-15a89e03dcd1"
      },
      "outputs": [],
      "source": [
        "results = xr.open_dataset('./deterministic.nc')\n",
        "results"
      ]
    },
    {
      "cell_type": "markdown",
      "id": "840db828-d6f0-4d78-b900-eac135c754a5",
      "metadata": {
        "id": "840db828-d6f0-4d78-b900-eac135c754a5"
      },
      "source": [
        "Note that to compute the RMSE, we follow ECMWF's convention by taking the square root after the time mean. To do this in WB2, first compute the MSE and then take the square root of the saved MSE results."
      ]
    },
    {
      "cell_type": "code",
      "execution_count": null,
      "id": "ea579fba-ca76-4cd4-8294-27e8db9eaa60",
      "metadata": {
        "id": "ea579fba-ca76-4cd4-8294-27e8db9eaa60"
      },
      "outputs": [],
      "source": [
        "results = xr.concat(\n",
        "    [\n",
        "    results,\n",
        "    results.sel(metric=['mse']).assign_coords(metric=['rmse']) ** 0.5\n",
        "    ],\n",
        "    dim='metric'\n",
        ")"
      ]
    },
    {
      "cell_type": "code",
      "execution_count": null,
      "id": "cf8f10ae-c230-46e1-83dd-549dfb4248d4",
      "metadata": {
        "id": "cf8f10ae-c230-46e1-83dd-549dfb4248d4"
      },
      "outputs": [],
      "source": [
        "results['geopotential'].sel(metric='rmse', level=500, region='global').plot();"
      ]
    },
    {
      "cell_type": "markdown",
      "id": "4ddb45e4-9ac1-427c-8290-35f2d5e6a7dc",
      "metadata": {
        "id": "4ddb45e4-9ac1-427c-8290-35f2d5e6a7dc"
      },
      "source": [
        "### Next steps\n",
        "\n",
        "This quickstart guide shows the basic functionality of the WeatherBench evaluation code but there is more to explore.\n",
        "\n",
        "For running evaluation from the command line, see [this guide](https://weatherbench2.readthedocs.io/en/latest/command-line-scripts.html). For a complete overview of the entire evaluation workflow, check out the [\"submission\" guide](https://weatherbench2.readthedocs.io/en/latest/submit.html)."
      ]
    }
  ],
  "metadata": {
    "kernelspec": {
      "display_name": "Python [conda env:weatherbench2]",
      "language": "python",
      "name": "conda-env-weatherbench2-py"
    },
    "language_info": {
      "codemirror_mode": {
        "name": "ipython",
        "version": 3
      },
      "file_extension": ".py",
      "mimetype": "text/x-python",
      "name": "python",
      "nbconvert_exporter": "python",
      "pygments_lexer": "ipython3",
      "version": "3.11.4"
    },
    "colab": {
      "provenance": []
    }
  },
  "nbformat": 4,
  "nbformat_minor": 5
}